{
 "cells": [
  {
   "cell_type": "code",
   "execution_count": 2,
   "id": "dd831d5a",
   "metadata": {},
   "outputs": [],
   "source": [
    "import pandas as pd"
   ]
  },
  {
   "cell_type": "code",
   "execution_count": 4,
   "id": "8cf9581f",
   "metadata": {},
   "outputs": [],
   "source": [
    "df = pd.read_excel(\"veriseti.xlsx\")"
   ]
  },
  {
   "cell_type": "code",
   "execution_count": 5,
   "id": "0249edce",
   "metadata": {},
   "outputs": [
    {
     "data": {
      "text/plain": [
       "<bound method NDFrame.describe of      Unnamed: 0  Latitude      Long\n",
       "0         Ahmet  40999302  29134829\n",
       "1        Mehmet  41017437  29127276\n",
       "2          Ali   41033868  29031112\n",
       "3          Veli  41022666  29012744\n",
       "4          AYSU  41080559  28727595\n",
       "..          ...       ...       ...\n",
       "376       KÜBRA  40894239  29195622\n",
       "377      ZEYNEP  40905408  29182657\n",
       "378       CANER  40911638  29172658\n",
       "379      VOLKAN  40911323  29167961\n",
       "380  EMRE KAĞAN  40910815  29164787\n",
       "\n",
       "[381 rows x 3 columns]>"
      ]
     },
     "execution_count": 5,
     "metadata": {},
     "output_type": "execute_result"
    }
   ],
   "source": [
    "df.describe"
   ]
  },
  {
   "cell_type": "code",
   "execution_count": 7,
   "id": "588d5c98",
   "metadata": {},
   "outputs": [
    {
     "data": {
      "text/plain": [
       "40999302"
      ]
     },
     "execution_count": 7,
     "metadata": {},
     "output_type": "execute_result"
    }
   ],
   "source": [
    "import numpy as np\n",
    "import tensorflow as tf\n",
    "\n",
    "num_points = 100\n",
    "dimensions = 2\n",
    "points = np.random.uniform(0, 1000, [num_points, dimensions])\n",
    "\n",
    "def input_fn():\n",
    "  return tf.compat.v1.train.limit_epochs(\n",
    "      tf.convert_to_tensor(points, dtype=tf.float32), num_epochs=1)\n",
    "\n",
    "num_clusters = 5\n",
    "kmeans = tf.compat.v1.estimator.experimental.KMeans(\n",
    "    num_clusters=num_clusters, use_mini_batch=False)\n"
   ]
  },
  {
   "cell_type": "code",
   "execution_count": null,
   "id": "dcfa061d",
   "metadata": {},
   "outputs": [],
   "source": []
  }
 ],
 "metadata": {
  "kernelspec": {
   "display_name": "Python 3.9 (tensorflowbitirme)",
   "language": "python",
   "name": "tensorflow"
  },
  "language_info": {
   "codemirror_mode": {
    "name": "ipython",
    "version": 3
   },
   "file_extension": ".py",
   "mimetype": "text/x-python",
   "name": "python",
   "nbconvert_exporter": "python",
   "pygments_lexer": "ipython3",
   "version": "3.9.13"
  }
 },
 "nbformat": 4,
 "nbformat_minor": 5
}
