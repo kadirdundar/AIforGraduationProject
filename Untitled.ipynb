{
 "cells": [
  {
   "cell_type": "code",
   "execution_count": 11,
   "id": "dd831d5a",
   "metadata": {},
   "outputs": [],
   "source": [
    "import pandas as pd\n",
    "import numpy as np\n",
    "import os\n",
    "import tempfile"
   ]
  },
  {
   "cell_type": "code",
   "execution_count": 2,
   "id": "8cf9581f",
   "metadata": {},
   "outputs": [],
   "source": [
    "df = pd.read_excel(\"veriseti.xlsx\")"
   ]
  },
  {
   "cell_type": "code",
   "execution_count": 3,
   "id": "0249edce",
   "metadata": {},
   "outputs": [
    {
     "data": {
      "text/plain": [
       "<bound method NDFrame.describe of      Unnamed: 0  Latitude      Long\n",
       "0         Ahmet  40999302  29134829\n",
       "1        Mehmet  41017437  29127276\n",
       "2          Ali   41033868  29031112\n",
       "3          Veli  41022666  29012744\n",
       "4          AYSU  41080559  28727595\n",
       "..          ...       ...       ...\n",
       "376       KÜBRA  40894239  29195622\n",
       "377      ZEYNEP  40905408  29182657\n",
       "378       CANER  40911638  29172658\n",
       "379      VOLKAN  40911323  29167961\n",
       "380  EMRE KAĞAN  40910815  29164787\n",
       "\n",
       "[381 rows x 3 columns]>"
      ]
     },
     "execution_count": 3,
     "metadata": {},
     "output_type": "execute_result"
    }
   ],
   "source": [
    "df.describe\n"
   ]
  },
  {
   "cell_type": "code",
   "execution_count": 4,
   "id": "7787b242",
   "metadata": {},
   "outputs": [],
   "source": [
    "newdf =df.rename(columns={'Unnamed: 0':\"isimler\"})\n"
   ]
  },
  {
   "cell_type": "code",
   "execution_count": 5,
   "id": "7ffd6a92",
   "metadata": {},
   "outputs": [
    {
     "data": {
      "text/plain": [
       "Index(['Latitude', 'Long'], dtype='object')"
      ]
     },
     "execution_count": 5,
     "metadata": {},
     "output_type": "execute_result"
    }
   ],
   "source": [
    "newdf= newdf.drop('isimler', axis='columns')\n",
    "##df.drop()\n",
    "##df.drop(['B', 'C'], axis=1\n",
    "newdf.columns"
   ]
  },
  {
   "cell_type": "code",
   "execution_count": 6,
   "id": "1dbade48",
   "metadata": {},
   "outputs": [],
   "source": [
    "def input_fn():\n",
    "  return tf.compat.v1.train.limit_epochs(\n",
    "      tf.convert_to_tensor(newdf, dtype=tf.float32), num_epochs=1)"
   ]
  },
  {
   "cell_type": "code",
   "execution_count": 7,
   "id": "d9f7bbba",
   "metadata": {},
   "outputs": [
    {
     "name": "stdout",
     "output_type": "stream",
     "text": [
      "WARNING:tensorflow:From /var/folders/__/2yl6rxv17pd1gpvycv0lyhb80000gn/T/ipykernel_99818/421225584.py:3: The name tf.estimator.experimental.KMeans is deprecated. Please use tf.compat.v1.estimator.experimental.KMeans instead.\n",
      "\n",
      "INFO:tensorflow:Using default config.\n",
      "WARNING:tensorflow:Using temporary folder as model directory: /var/folders/__/2yl6rxv17pd1gpvycv0lyhb80000gn/T/tmpzxums700\n",
      "INFO:tensorflow:Using config: {'_model_dir': '/var/folders/__/2yl6rxv17pd1gpvycv0lyhb80000gn/T/tmpzxums700', '_tf_random_seed': None, '_save_summary_steps': 100, '_save_checkpoints_steps': None, '_save_checkpoints_secs': 600, '_session_config': allow_soft_placement: true\n",
      "graph_options {\n",
      "  rewrite_options {\n",
      "    meta_optimizer_iterations: ONE\n",
      "  }\n",
      "}\n",
      ", '_keep_checkpoint_max': 5, '_keep_checkpoint_every_n_hours': 10000, '_log_step_count_steps': 100, '_train_distribute': None, '_device_fn': None, '_protocol': None, '_eval_distribute': None, '_experimental_distribute': None, '_experimental_max_worker_delay_secs': None, '_session_creation_timeout_secs': 7200, '_checkpoint_save_graph_def': True, '_service': None, '_cluster_spec': ClusterSpec({}), '_task_type': 'worker', '_task_id': 0, '_global_id_in_cluster': 0, '_master': '', '_evaluation_master': '', '_is_chief': True, '_num_ps_replicas': 0, '_num_worker_replicas': 1}\n"
     ]
    }
   ],
   "source": [
    "import tensorflow as tf\n",
    "num_clusters = 10\n",
    "kmeans = tf.compat.v1.estimator.experimental.KMeans(\n",
    "    num_clusters=num_clusters, use_mini_batch=False)"
   ]
  },
  {
   "cell_type": "code",
   "execution_count": null,
   "id": "f389bf74",
   "metadata": {},
   "outputs": [],
   "source": [
    "# train\n",
    "num_iterations = 10\n",
    "\n",
    "previous_centers = None\n",
    "i = 0\n",
    "while(i<=num_iterations):\n",
    "  i= i +1\n",
    "  kmeans.train(input_fn)\n",
    "  cluster_centers = kmeans.cluster_centers()\n",
    "  if previous_centers is not None:\n",
    "     print('delta:', cluster_centers - previous_centers)\n",
    "     previous_centers = cluster_centers\n",
    "     print('score:', kmeans.score(input_fn))\n",
    "     print( 'cluster centers:', cluster_centers)\n",
    "     "
   ]
  },
  {
   "cell_type": "code",
   "execution_count": null,
   "id": "8bb61a50",
   "metadata": {},
   "outputs": [],
   "source": [
    "# map the input points to their clusters\n",
    "cluster_indices = list(kmeans.predict_cluster_index(input_fn))\n",
    "for i, point in enumerate(newdf):\n",
    "  cluster_index = cluster_indices[i]\n",
    "  center = cluster_centers[cluster_index]\n",
    "  print('point:', point, 'is in cluster', cluster_index, 'centered at', center)"
   ]
  },
  {
   "cell_type": "code",
   "execution_count": 14,
   "id": "6be981aa",
   "metadata": {},
   "outputs": [
    {
     "ename": "ValueError",
     "evalue": "Expected an object of type `Trackable`, such as `tf.Module` or a subclass of the `Trackable` class, for export. Got <tensorflow_estimator.python.estimator.canned.kmeans.KMeansClustering object at 0x16e3695e0> with type <class 'tensorflow_estimator.python.estimator.canned.kmeans.KMeansClustering'>.",
     "output_type": "error",
     "traceback": [
      "\u001b[0;31m---------------------------------------------------------------------------\u001b[0m",
      "\u001b[0;31mValueError\u001b[0m                                Traceback (most recent call last)",
      "Cell \u001b[0;32mIn [14], line 3\u001b[0m\n\u001b[1;32m      1\u001b[0m tmpdir \u001b[39m=\u001b[39m tempfile\u001b[39m.\u001b[39mmkdtemp()\n\u001b[1;32m      2\u001b[0m mobilenet_save_path \u001b[39m=\u001b[39m os\u001b[39m.\u001b[39mpath\u001b[39m.\u001b[39mjoin(tmpdir, \u001b[39m\"\u001b[39m\u001b[39m/Users/kadirdundar/Desktop\u001b[39m\u001b[39m\"\u001b[39m)\n\u001b[0;32m----> 3\u001b[0m tf\u001b[39m.\u001b[39;49msaved_model\u001b[39m.\u001b[39;49msave(kmeans, mobilenet_save_path)\n",
      "File \u001b[0;32m~/opt/miniconda3/envs/tensorflow/lib/python3.9/site-packages/tensorflow/python/saved_model/save.py:1232\u001b[0m, in \u001b[0;36msave\u001b[0;34m(obj, export_dir, signatures, options)\u001b[0m\n\u001b[1;32m   1230\u001b[0m \u001b[39m# pylint: enable=line-too-long\u001b[39;00m\n\u001b[1;32m   1231\u001b[0m metrics\u001b[39m.\u001b[39mIncrementWriteApi(_SAVE_V2_LABEL)\n\u001b[0;32m-> 1232\u001b[0m save_and_return_nodes(obj, export_dir, signatures, options)\n\u001b[1;32m   1234\u001b[0m metrics\u001b[39m.\u001b[39mIncrementWrite(write_version\u001b[39m=\u001b[39m\u001b[39m\"\u001b[39m\u001b[39m2\u001b[39m\u001b[39m\"\u001b[39m)\n",
      "File \u001b[0;32m~/opt/miniconda3/envs/tensorflow/lib/python3.9/site-packages/tensorflow/python/saved_model/save.py:1268\u001b[0m, in \u001b[0;36msave_and_return_nodes\u001b[0;34m(obj, export_dir, signatures, options, experimental_skip_checkpoint)\u001b[0m\n\u001b[1;32m   1264\u001b[0m saved_model \u001b[39m=\u001b[39m saved_model_pb2\u001b[39m.\u001b[39mSavedModel()\n\u001b[1;32m   1265\u001b[0m meta_graph_def \u001b[39m=\u001b[39m saved_model\u001b[39m.\u001b[39mmeta_graphs\u001b[39m.\u001b[39madd()\n\u001b[1;32m   1267\u001b[0m _, exported_graph, object_saver, asset_info, saved_nodes, node_paths \u001b[39m=\u001b[39m (\n\u001b[0;32m-> 1268\u001b[0m     _build_meta_graph(obj, signatures, options, meta_graph_def))\n\u001b[1;32m   1269\u001b[0m saved_model\u001b[39m.\u001b[39msaved_model_schema_version \u001b[39m=\u001b[39m (\n\u001b[1;32m   1270\u001b[0m     constants\u001b[39m.\u001b[39mSAVED_MODEL_SCHEMA_VERSION)\n\u001b[1;32m   1272\u001b[0m \u001b[39m# Write the checkpoint, copy assets into the assets directory, and write out\u001b[39;00m\n\u001b[1;32m   1273\u001b[0m \u001b[39m# the SavedModel proto itself.\u001b[39;00m\n",
      "File \u001b[0;32m~/opt/miniconda3/envs/tensorflow/lib/python3.9/site-packages/tensorflow/python/saved_model/save.py:1441\u001b[0m, in \u001b[0;36m_build_meta_graph\u001b[0;34m(obj, signatures, options, meta_graph_def)\u001b[0m\n\u001b[1;32m   1414\u001b[0m \u001b[39m\"\"\"Creates a MetaGraph under a save context.\u001b[39;00m\n\u001b[1;32m   1415\u001b[0m \n\u001b[1;32m   1416\u001b[0m \u001b[39mArgs:\u001b[39;00m\n\u001b[0;32m   (...)\u001b[0m\n\u001b[1;32m   1437\u001b[0m \u001b[39m  saveable_view.node_paths: _SaveableView paths.\u001b[39;00m\n\u001b[1;32m   1438\u001b[0m \u001b[39m\"\"\"\u001b[39;00m\n\u001b[1;32m   1440\u001b[0m \u001b[39mwith\u001b[39;00m save_context\u001b[39m.\u001b[39msave_context(options):\n\u001b[0;32m-> 1441\u001b[0m   \u001b[39mreturn\u001b[39;00m _build_meta_graph_impl(obj, signatures, options, meta_graph_def)\n",
      "File \u001b[0;32m~/opt/miniconda3/envs/tensorflow/lib/python3.9/site-packages/tensorflow/python/saved_model/save.py:1376\u001b[0m, in \u001b[0;36m_build_meta_graph_impl\u001b[0;34m(obj, signatures, options, meta_graph_def)\u001b[0m\n\u001b[1;32m   1374\u001b[0m \u001b[39m# pylint: enable=line-too-long\u001b[39;00m\n\u001b[1;32m   1375\u001b[0m \u001b[39mif\u001b[39;00m \u001b[39mnot\u001b[39;00m \u001b[39misinstance\u001b[39m(obj, base\u001b[39m.\u001b[39mTrackable):\n\u001b[0;32m-> 1376\u001b[0m   \u001b[39mraise\u001b[39;00m \u001b[39mValueError\u001b[39;00m(\n\u001b[1;32m   1377\u001b[0m       \u001b[39m\"\u001b[39m\u001b[39mExpected an object of type `Trackable`, such as `tf.Module` or a \u001b[39m\u001b[39m\"\u001b[39m\n\u001b[1;32m   1378\u001b[0m       \u001b[39mf\u001b[39m\u001b[39m\"\u001b[39m\u001b[39msubclass of the `Trackable` class, for export. Got \u001b[39m\u001b[39m{\u001b[39;00mobj\u001b[39m}\u001b[39;00m\u001b[39m \u001b[39m\u001b[39m\"\u001b[39m\n\u001b[1;32m   1379\u001b[0m       \u001b[39mf\u001b[39m\u001b[39m\"\u001b[39m\u001b[39mwith type \u001b[39m\u001b[39m{\u001b[39;00m\u001b[39mtype\u001b[39m(obj)\u001b[39m}\u001b[39;00m\u001b[39m.\u001b[39m\u001b[39m\"\u001b[39m)\n\u001b[1;32m   1380\u001b[0m meta_graph_def \u001b[39m=\u001b[39m meta_graph_def \u001b[39mor\u001b[39;00m meta_graph_pb2\u001b[39m.\u001b[39mMetaGraphDef()\n\u001b[1;32m   1382\u001b[0m augmented_graph_view \u001b[39m=\u001b[39m _AugmentedGraphView(obj)\n",
      "\u001b[0;31mValueError\u001b[0m: Expected an object of type `Trackable`, such as `tf.Module` or a subclass of the `Trackable` class, for export. Got <tensorflow_estimator.python.estimator.canned.kmeans.KMeansClustering object at 0x16e3695e0> with type <class 'tensorflow_estimator.python.estimator.canned.kmeans.KMeansClustering'>."
     ]
    }
   ],
   "source": [
    "tmpdir = tempfile.mkdtemp()\n",
    "mobilenet_save_path = os.path.join(tmpdir, \"/Users/kadirdundar/Desktop\")\n",
    "tf.saved_model.save(kmeans, mobilenet_save_path)"
   ]
  },
  {
   "cell_type": "code",
   "execution_count": 10,
   "id": "2681dc16",
   "metadata": {},
   "outputs": [
    {
     "data": {
      "text/plain": [
       "<generator object Estimator.predict at 0x280c076d0>"
      ]
     },
     "execution_count": 10,
     "metadata": {},
     "output_type": "execute_result"
    }
   ],
   "source": [
    "##kmeans.cluster_centers()\n",
    "kmeans.predict(\n",
    "    input_fn,\n",
    "    predict_keys=None,\n",
    "    hooks=None,\n",
    "    checkpoint_path=None,\n",
    "    yield_single_examples=True\n",
    ")\n"
   ]
  },
  {
   "cell_type": "code",
   "execution_count": 16,
   "id": "1a60555d",
   "metadata": {},
   "outputs": [
    {
     "ename": "AttributeError",
     "evalue": "'Tensor' object has no attribute 'features'",
     "output_type": "error",
     "traceback": [
      "\u001b[0;31m---------------------------------------------------------------------------\u001b[0m",
      "\u001b[0;31mAttributeError\u001b[0m                            Traceback (most recent call last)",
      "Cell \u001b[0;32mIn [16], line 2\u001b[0m\n\u001b[1;32m      1\u001b[0m export_dir_base \u001b[39m=\u001b[39m \u001b[39m\"\u001b[39m\u001b[39m/Users/kadirdundar/Desktop\u001b[39m\u001b[39m\"\u001b[39m\n\u001b[0;32m----> 2\u001b[0m kmeans\u001b[39m.\u001b[39;49mexport_saved_model(export_dir_base,\n\u001b[1;32m      3\u001b[0m     serving_input_receiver_fn\u001b[39m=\u001b[39;49m input_fn,\n\u001b[1;32m      4\u001b[0m     assets_extra\u001b[39m=\u001b[39;49m\u001b[39mNone\u001b[39;49;00m,\n\u001b[1;32m      5\u001b[0m     as_text\u001b[39m=\u001b[39;49m\u001b[39mFalse\u001b[39;49;00m,\n\u001b[1;32m      6\u001b[0m     checkpoint_path\u001b[39m=\u001b[39;49m\u001b[39mNone\u001b[39;49;00m,\n\u001b[1;32m      7\u001b[0m     experimental_mode\u001b[39m=\u001b[39;49m tf\u001b[39m.\u001b[39;49mestimator\u001b[39m.\u001b[39;49mModeKeys\u001b[39m.\u001b[39;49mPREDICT)\n",
      "File \u001b[0;32m~/opt/miniconda3/envs/tensorflow/lib/python3.9/site-packages/tensorflow_estimator/python/estimator/estimator.py:730\u001b[0m, in \u001b[0;36mEstimator.export_saved_model\u001b[0;34m(self, export_dir_base, serving_input_receiver_fn, assets_extra, as_text, checkpoint_path, experimental_mode)\u001b[0m\n\u001b[1;32m    726\u001b[0m   \u001b[39mraise\u001b[39;00m \u001b[39mValueError\u001b[39;00m(\u001b[39m'\u001b[39m\u001b[39mAn input_receiver_fn must be defined.\u001b[39m\u001b[39m'\u001b[39m)\n\u001b[1;32m    728\u001b[0m input_receiver_fn_map \u001b[39m=\u001b[39m {experimental_mode: serving_input_receiver_fn}\n\u001b[0;32m--> 730\u001b[0m \u001b[39mreturn\u001b[39;00m \u001b[39mself\u001b[39;49m\u001b[39m.\u001b[39;49m_export_all_saved_models(\n\u001b[1;32m    731\u001b[0m     export_dir_base,\n\u001b[1;32m    732\u001b[0m     input_receiver_fn_map,\n\u001b[1;32m    733\u001b[0m     assets_extra\u001b[39m=\u001b[39;49massets_extra,\n\u001b[1;32m    734\u001b[0m     as_text\u001b[39m=\u001b[39;49mas_text,\n\u001b[1;32m    735\u001b[0m     checkpoint_path\u001b[39m=\u001b[39;49mcheckpoint_path,\n\u001b[1;32m    736\u001b[0m     strip_default_attrs\u001b[39m=\u001b[39;49m\u001b[39mTrue\u001b[39;49;00m)\n",
      "File \u001b[0;32m~/opt/miniconda3/envs/tensorflow/lib/python3.9/site-packages/tensorflow_estimator/python/estimator/estimator.py:864\u001b[0m, in \u001b[0;36mEstimator._export_all_saved_models\u001b[0;34m(self, export_dir_base, input_receiver_fn_map, assets_extra, as_text, checkpoint_path, strip_default_attrs)\u001b[0m\n\u001b[1;32m    862\u001b[0m   save_variables \u001b[39m=\u001b[39m \u001b[39mFalse\u001b[39;00m\n\u001b[1;32m    863\u001b[0m \u001b[39mif\u001b[39;00m input_receiver_fn_map\u001b[39m.\u001b[39mget(ModeKeys\u001b[39m.\u001b[39mPREDICT):\n\u001b[0;32m--> 864\u001b[0m   \u001b[39mself\u001b[39;49m\u001b[39m.\u001b[39;49m_add_meta_graph_for_mode(\n\u001b[1;32m    865\u001b[0m       builder,\n\u001b[1;32m    866\u001b[0m       input_receiver_fn_map,\n\u001b[1;32m    867\u001b[0m       checkpoint_path,\n\u001b[1;32m    868\u001b[0m       save_variables,\n\u001b[1;32m    869\u001b[0m       mode\u001b[39m=\u001b[39;49mModeKeys\u001b[39m.\u001b[39;49mPREDICT,\n\u001b[1;32m    870\u001b[0m       strip_default_attrs\u001b[39m=\u001b[39;49mstrip_default_attrs)\n\u001b[1;32m    871\u001b[0m   save_variables \u001b[39m=\u001b[39m \u001b[39mFalse\u001b[39;00m\n\u001b[1;32m    873\u001b[0m \u001b[39mif\u001b[39;00m save_variables:\n",
      "File \u001b[0;32m~/opt/miniconda3/envs/tensorflow/lib/python3.9/site-packages/tensorflow_estimator/python/estimator/estimator.py:942\u001b[0m, in \u001b[0;36mEstimator._add_meta_graph_for_mode\u001b[0;34m(self, builder, input_receiver_fn_map, checkpoint_path, save_variables, mode, export_tags, check_variables, strip_default_attrs)\u001b[0m\n\u001b[1;32m    938\u001b[0m input_receiver \u001b[39m=\u001b[39m input_receiver_fn()\n\u001b[1;32m    940\u001b[0m \u001b[39m# Call the model_fn and collect the export_outputs.\u001b[39;00m\n\u001b[1;32m    941\u001b[0m estimator_spec \u001b[39m=\u001b[39m \u001b[39mself\u001b[39m\u001b[39m.\u001b[39m_call_model_fn(\n\u001b[0;32m--> 942\u001b[0m     features\u001b[39m=\u001b[39minput_receiver\u001b[39m.\u001b[39;49mfeatures,\n\u001b[1;32m    943\u001b[0m     labels\u001b[39m=\u001b[39m\u001b[39mgetattr\u001b[39m(input_receiver, \u001b[39m'\u001b[39m\u001b[39mlabels\u001b[39m\u001b[39m'\u001b[39m, \u001b[39mNone\u001b[39;00m),\n\u001b[1;32m    944\u001b[0m     mode\u001b[39m=\u001b[39mmode,\n\u001b[1;32m    945\u001b[0m     config\u001b[39m=\u001b[39m\u001b[39mself\u001b[39m\u001b[39m.\u001b[39mconfig)\n\u001b[1;32m    947\u001b[0m export_outputs \u001b[39m=\u001b[39m export_lib\u001b[39m.\u001b[39mexport_outputs_for_mode(\n\u001b[1;32m    948\u001b[0m     mode\u001b[39m=\u001b[39mestimator_spec\u001b[39m.\u001b[39mmode,\n\u001b[1;32m    949\u001b[0m     serving_export_outputs\u001b[39m=\u001b[39mestimator_spec\u001b[39m.\u001b[39mexport_outputs,\n\u001b[1;32m    950\u001b[0m     predictions\u001b[39m=\u001b[39mestimator_spec\u001b[39m.\u001b[39mpredictions,\n\u001b[1;32m    951\u001b[0m     loss\u001b[39m=\u001b[39mestimator_spec\u001b[39m.\u001b[39mloss,\n\u001b[1;32m    952\u001b[0m     metrics\u001b[39m=\u001b[39mestimator_spec\u001b[39m.\u001b[39meval_metric_ops)\n\u001b[1;32m    954\u001b[0m \u001b[39m# Build the SignatureDefs from receivers and all outputs\u001b[39;00m\n",
      "File \u001b[0;32m~/opt/miniconda3/envs/tensorflow/lib/python3.9/site-packages/tensorflow/python/framework/ops.py:446\u001b[0m, in \u001b[0;36mTensor.__getattr__\u001b[0;34m(self, name)\u001b[0m\n\u001b[1;32m    437\u001b[0m \u001b[39mif\u001b[39;00m name \u001b[39min\u001b[39;00m {\u001b[39m\"\u001b[39m\u001b[39mT\u001b[39m\u001b[39m\"\u001b[39m, \u001b[39m\"\u001b[39m\u001b[39mastype\u001b[39m\u001b[39m\"\u001b[39m, \u001b[39m\"\u001b[39m\u001b[39mravel\u001b[39m\u001b[39m\"\u001b[39m, \u001b[39m\"\u001b[39m\u001b[39mtranspose\u001b[39m\u001b[39m\"\u001b[39m, \u001b[39m\"\u001b[39m\u001b[39mreshape\u001b[39m\u001b[39m\"\u001b[39m, \u001b[39m\"\u001b[39m\u001b[39mclip\u001b[39m\u001b[39m\"\u001b[39m, \u001b[39m\"\u001b[39m\u001b[39msize\u001b[39m\u001b[39m\"\u001b[39m,\n\u001b[1;32m    438\u001b[0m             \u001b[39m\"\u001b[39m\u001b[39mtolist\u001b[39m\u001b[39m\"\u001b[39m, \u001b[39m\"\u001b[39m\u001b[39mdata\u001b[39m\u001b[39m\"\u001b[39m}:\n\u001b[1;32m    439\u001b[0m   \u001b[39m# TODO(wangpeng): Export the enable_numpy_behavior knob\u001b[39;00m\n\u001b[1;32m    440\u001b[0m   \u001b[39mraise\u001b[39;00m \u001b[39mAttributeError\u001b[39;00m(\n\u001b[1;32m    441\u001b[0m       \u001b[39mf\u001b[39m\u001b[39m\"\u001b[39m\u001b[39m{\u001b[39;00m\u001b[39mtype\u001b[39m(\u001b[39mself\u001b[39m)\u001b[39m.\u001b[39m\u001b[39m__name__\u001b[39m\u001b[39m}\u001b[39;00m\u001b[39m object has no attribute \u001b[39m\u001b[39m'\u001b[39m\u001b[39m{\u001b[39;00mname\u001b[39m}\u001b[39;00m\u001b[39m'\u001b[39m\u001b[39m. \u001b[39m\u001b[39m\"\u001b[39m \u001b[39m+\u001b[39m \u001b[39m\"\"\"\u001b[39m\n\u001b[1;32m    442\u001b[0m \u001b[39m    If you are looking for numpy-related methods, please run the following:\u001b[39m\n\u001b[1;32m    443\u001b[0m \u001b[39m    from tensorflow.python.ops.numpy_ops import np_config\u001b[39m\n\u001b[1;32m    444\u001b[0m \u001b[39m    np_config.enable_numpy_behavior()\u001b[39m\n\u001b[1;32m    445\u001b[0m \u001b[39m  \u001b[39m\u001b[39m\"\"\"\u001b[39m)\n\u001b[0;32m--> 446\u001b[0m \u001b[39mself\u001b[39;49m\u001b[39m.\u001b[39;49m\u001b[39m__getattribute__\u001b[39;49m(name)\n",
      "\u001b[0;31mAttributeError\u001b[0m: 'Tensor' object has no attribute 'features'"
     ]
    }
   ],
   "source": [
    "export_dir_base = \"/Users/kadirdundar/Desktop\"\n",
    "kmeans.export_saved_model(export_dir_base,\n",
    "    serving_input_receiver_fn= input_fn,\n",
    "    assets_extra=None,\n",
    "    as_text=False,\n",
    "    checkpoint_path=None,\n",
    "    experimental_mode= tf.estimator.ModeKeys.PREDICT)"
   ]
  }
 ],
 "metadata": {
  "kernelspec": {
   "display_name": "Python 3.9 (tensorflowbitirme)",
   "language": "python",
   "name": "tensorflow"
  },
  "language_info": {
   "codemirror_mode": {
    "name": "ipython",
    "version": 3
   },
   "file_extension": ".py",
   "mimetype": "text/x-python",
   "name": "python",
   "nbconvert_exporter": "python",
   "pygments_lexer": "ipython3",
   "version": "3.9.13"
  }
 },
 "nbformat": 4,
 "nbformat_minor": 5
}
